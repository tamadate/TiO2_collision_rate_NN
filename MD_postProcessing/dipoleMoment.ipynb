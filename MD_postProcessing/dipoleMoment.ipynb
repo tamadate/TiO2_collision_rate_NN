{
 "cells": [
  {
   "cell_type": "code",
   "execution_count": 1,
   "metadata": {},
   "outputs": [],
   "source": [
    "import numpy as np\n",
    "import os\n",
    "import glob\n",
    "\n",
    "\n",
    "loc=\"/media/tama3rdgen/6TB/TiO2/potentialMaker/\"\n",
    "ns=np.array((9,24,48,84,129,198,291,390,534,696,882,1098,1356))\n",
    "dpString=np.array((\"0.6nm\",\"0.8nm\",\"1nm\",\"1.2nm\",\"1.4nm\",\"1.6nm\",\"1.8nm\",\"2nm\",\"2.2nm\",\"2.4nm\",\"2.6nm\",\"2.8nm\",\"3nm\"))\n",
    "dpSize=np.array((0.6,0.8,1,1.2,1.4,1.6,1.8,2,2.2,2.4,2.6,2.8,3))"
   ]
  },
  {
   "cell_type": "code",
   "execution_count": 9,
   "metadata": {},
   "outputs": [
    {
     "name": "stdout",
     "output_type": "stream",
     "text": [
      "2.7514469060114632\n",
      "1.0467255250476846\n",
      "0.8567753829513872\n",
      "2.8157381428163446\n",
      "1.2743781272063264\n",
      "6.0071601915269275\n",
      "2.120301996910907\n",
      "15.870050310912491\n",
      "6.4080461166941465\n",
      "17.143763872325362\n",
      "8.195873443475815\n",
      "8.160046228932243\n",
      "26.53885362624906\n"
     ]
    }
   ],
   "source": [
    "for i in np.arange(np.size(ns)):\n",
    "    data=np.loadtxt(loc+str(ns[i])+\".in\")\n",
    "    x0=np.average(data.T[3])\n",
    "    y0=np.average(data.T[4])\n",
    "    z0=np.average(data.T[5])\n",
    "    x=(data.T[3]-x0)*data.T[2]\n",
    "    y=(data.T[4]-y0)*data.T[2]\n",
    "    z=(data.T[5]-z0)*data.T[2]\n",
    "    mu=np.array([np.sum(x),np.sum(y),np.sum(z)])\n",
    "    MU=np.sqrt(mu[0]*mu[0]+mu[1]*mu[1]+mu[2]*mu[2])\n",
    "    print(MU)"
   ]
  },
  {
   "cell_type": "code",
   "execution_count": null,
   "metadata": {},
   "outputs": [],
   "source": []
  }
 ],
 "metadata": {
  "kernelspec": {
   "display_name": "Python 3",
   "language": "python",
   "name": "python3"
  },
  "language_info": {
   "codemirror_mode": {
    "name": "ipython",
    "version": 3
   },
   "file_extension": ".py",
   "mimetype": "text/x-python",
   "name": "python",
   "nbconvert_exporter": "python",
   "pygments_lexer": "ipython3",
   "version": "3.8.10"
  },
  "orig_nbformat": 4,
  "vscode": {
   "interpreter": {
    "hash": "e7370f93d1d0cde622a1f8e1c04877d8463912d04d973331ad4851f04de6915a"
   }
  }
 },
 "nbformat": 4,
 "nbformat_minor": 2
}
